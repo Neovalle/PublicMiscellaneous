{
 "cells": [
  {
   "cell_type": "code",
   "execution_count": 29,
   "metadata": {},
   "outputs": [
    {
     "data": {
      "image/png": "[encoded data removed]",
      "text/plain": [
       "<Figure size 432x288 with 1 Axes>"
      ]
     },
     "metadata": {
      "needs_background": "light"
     },
     "output_type": "display_data"
    }
   ],
   "source": [
    "import numpy as np\n",
    "import pandas as pd\n",
    "import matplotlib.pyplot as plt\n",
    "\n",
    "#pd.set_option('display.max_rows', None)\n",
    "#pd.set_option('display.max_columns', None)\n",
    "#pd.set_option('display.width', None)\n",
    "#pd.set_option('display.max_colwidth', -1)\n",
    "\n",
    "DAYS = 60\n",
    "POPULATION = 1000000\n",
    "SPREAD_FACTOR = 2\n",
    "DAYS_TO_RECOVER = 5\n",
    "INITIALLY_AFFECTED = 1\n",
    "\n",
    "\n",
    "city = pd.DataFrame(data={'id': np.arange(POPULATION), 'infected': False, 'recovery_day': None, 'recovered': False})\n",
    "city = city.set_index('id')\n",
    "\n",
    "\n",
    "firstCases = city.sample(INITIALLY_AFFECTED, replace=False)\n",
    "city.loc[firstCases.index, 'infected'] = True\n",
    "city.loc[firstCases.index, 'recovery_day'] = DAYS_TO_RECOVER\n",
    "\n",
    "\n",
    "stat_active_cases = [INITIALLY_AFFECTED]\n",
    "stat_recovered = [0]\n",
    "\n",
    "for today in range(1, DAYS):\n",
    "    # Mark people who have recovered today\n",
    "    city.loc[city['recovery_day'] == today, 'recovered'] = True\n",
    "    city.loc[city['recovery_day'] == today, 'infected'] = False\n",
    "    \n",
    "    # Calcuate the number of people who are infected today\n",
    "    spreadingPeople = city[ (city['infected'] == True)]\n",
    "    totalCasesToday = round(len(spreadingPeople) * SPREAD_FACTOR)\n",
    "    casesToday = city.sample(totalCasesToday, replace=True)\n",
    "    \n",
    "    # Ignore people who were already infected in casesToday\n",
    "    casesToday = casesToday[ (casesToday['infected'] == False) & (casesToday['recovered'] == False) ]\n",
    "    \n",
    "    # Mark the new cases as infected, and their recovery day\n",
    "    city.loc[casesToday.index, 'infected'] = True\n",
    "    city.loc[casesToday.index, 'recovery_day'] = today + DAYS_TO_RECOVER\n",
    "\n",
    "    stat_active_cases.append(len(city[city['infected'] == True]))\n",
    "    # stat_recovered.append(len(city[city['recovered'] == True]))\n",
    "    \n",
    "    # Try and reduce the SPREAD_FACTOR to simulate the effects of different levels of social distancing\n",
    "    # if today >= 5:\n",
    "    #     SPREAD_FACTOR = 1\n",
    "    # if today >= 10:\n",
    "    #     SPREAD_FACTOR = 0.1\n",
    "    \n",
    "# import matplotlib.pyplot as plt\n",
    "plt.bar(x=np.arange(DAYS), height=stat_active_cases, color=\"red\")\n",
    "plt.show()\n"
   ]
  },
  {
   "cell_type": "code",
   "execution_count": null,
   "metadata": {},
   "outputs": [],
   "source": []
  }
 ],
 "metadata": {
  "kernelspec": {
   "display_name": "Python 3",
   "language": "python",
   "name": "python3"
  },
  "language_info": {
   "codemirror_mode": {
    "name": "ipython",
    "version": 3
   },
   "file_extension": ".py",
   "mimetype": "text/x-python",
   "name": "python",
   "nbconvert_exporter": "python",
   "pygments_lexer": "ipython3",
   "version": "3.7.6"
  }
 },
 "nbformat": 4,
 "nbformat_minor": 4
}
