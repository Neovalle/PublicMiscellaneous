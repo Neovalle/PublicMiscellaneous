{
 "cells": [
  {
   "cell_type": "markdown",
   "metadata": {},
   "source": [
    "## 1. Arrays\n",
    "There are many ways to create NumPy arrays."
   ]
  },
  {
   "cell_type": "code",
   "execution_count": 4,
   "metadata": {},
   "outputs": [],
   "source": [
    "from numpy import array\n",
    "A = array([[1,2,3],[1,2,3],[1,2,3]])\n",
    "\n",
    "# Empty\n",
    "\n",
    "from numpy import empty\n",
    "A = empty([3,3])\n",
    "\n",
    "# Zeros\n",
    "\n",
    "from numpy import zeros\n",
    "A = zeros([3,5])\n",
    "\n",
    "# Ones\n",
    "\n",
    "from numpy import ones\n",
    "A = ones([5, 5])"
   ]
  },
  {
   "cell_type": "markdown",
   "metadata": {},
   "source": [
    "## 2. Vectors\n",
    "a vector is a list or column of scalars."
   ]
  },
  {
   "cell_type": "code",
   "execution_count": null,
   "metadata": {},
   "outputs": [],
   "source": [
    "# Vector Addition\n",
    "\n",
    "c = a + b\n",
    "\n",
    "# Vector Subtraction\n",
    "\n",
    "c = a - b\n",
    "\n",
    "# Vector Multiplication\n",
    "\n",
    "c = a * b\n",
    "\n",
    "# Vector Division\n",
    "\n",
    "c = a / b\n",
    "\n",
    "# Vector Dot Product (scalar)\n",
    "\n",
    "c = a.dot(b)\n",
    "\n",
    "# Vector-Scalar Multiplication\n",
    "\n",
    "c = a * 2.2\n",
    "\n",
    "# Vector Norm (magnitude, length)\n",
    "\n",
    "from numpy.linalg import norm\n",
    "l2 = norm(v)"
   ]
  },
  {
   "cell_type": "markdown",
   "metadata": {},
   "source": [
    "## 3. Matrices\n",
    "A matrix is a two-dimensional array of scalars."
   ]
  },
  {
   "cell_type": "code",
   "execution_count": null,
   "metadata": {},
   "outputs": [],
   "source": [
    "# Matrix Addition\n",
    "\n",
    "C = A + B\n",
    "\n",
    "# Matrix Subtraction\n",
    "\n",
    "C = A - B\n",
    "\n",
    "# Matrix Multiplication (Hadamard Product)\n",
    "\n",
    "C = A * B\n",
    "\n",
    "# Matrix Division\n",
    "\n",
    "C = A / B\n",
    "\n",
    "# Matrix-Matrix Multiplication (Dot Product)\n",
    "\n",
    "C = A.dot(B)\n",
    "\n",
    "# Matrix-Vector Multiplication (Dot Product)\n",
    "\n",
    "C = A.dot(b)\n",
    "\n",
    "# Matrix-Scalar Multiplication\n",
    "\n",
    "C = A.dot(2.2)"
   ]
  },
  {
   "cell_type": "markdown",
   "metadata": {},
   "source": [
    "## 4. Types of Matrices\n",
    "Different types of matrices are often used as elements in broader calculations."
   ]
  },
  {
   "cell_type": "code",
   "execution_count": null,
   "metadata": {},
   "outputs": [],
   "source": [
    "# Triangle Matrix\n",
    "\n",
    "# lower\n",
    "from numpy import tril\n",
    "lower = tril(M)\n",
    "# upper\n",
    "from numpy import triu\n",
    "upper = triu(M)\n",
    "\n",
    "# Diagonal Matrix\n",
    "\n",
    "from numpy import diag\n",
    "d = diag(M)\n",
    "\n",
    "# Identity Matrix\n",
    "\n",
    "from numpy import identity\n",
    "I = identity(3)"
   ]
  },
  {
   "cell_type": "markdown",
   "metadata": {},
   "source": [
    "## 5. Matrix Operations\n",
    "Matrix operations are often used as elements in broader calculations."
   ]
  },
  {
   "cell_type": "code",
   "execution_count": null,
   "metadata": {},
   "outputs": [],
   "source": [
    "# Matrix Transpose\n",
    "\n",
    "B = A.T\n",
    "\n",
    "# Matrix Inversion\n",
    "\n",
    "from numpy.linalg import inv\n",
    "B = inv(A)\n",
    "\n",
    "# Matrix Trace\n",
    "\n",
    "from numpy import trace\n",
    "B = trace(A)\n",
    "\n",
    "# Matrix Determinant\n",
    "\n",
    "from numpy.linalg import det\n",
    "B = det(A)\n",
    "\n",
    "\n",
    "# Matrix Rank (number of rows no linearly dependent)\n",
    "\n",
    "from numpy.linalg import matrix_rank\n",
    "r = matrix_rank(A)"
   ]
  },
  {
   "cell_type": "markdown",
   "metadata": {},
   "source": [
    "## 6. Matrix Factorization\n",
    "Matrix factorization, or matrix decomposition, breaks a matrix down into its constituent parts to make other operations simpler and more numerically stable."
   ]
  },
  {
   "cell_type": "code",
   "execution_count": null,
   "metadata": {},
   "outputs": [],
   "source": [
    "# LU Decomposition\n",
    "\n",
    "from scipy.linalg import lu\n",
    "P, L, U = lu(A)\n",
    "\n",
    "# QR Decomposition\n",
    "\n",
    "from numpy.linalg import qr\n",
    "Q, R = qr(A, 'complete')\n",
    "\n",
    "# Eigendecomposition\n",
    "\n",
    "from numpy.linalg import eig\n",
    "values, vectors = eig(A)\n",
    "\n",
    "# Singular-Value Decomposition\n",
    "\n",
    "from scipy.linalg import svd\n",
    "U, s, V = svd(A)"
   ]
  },
  {
   "cell_type": "markdown",
   "metadata": {},
   "source": [
    "## 7. Statistics\n",
    "Statistics summarize the contents of vectors or matrices and are often used as components in broader operations."
   ]
  },
  {
   "cell_type": "code",
   "execution_count": null,
   "metadata": {},
   "outputs": [],
   "source": [
    "# Mean\n",
    "\n",
    "from numpy import mean\n",
    "result = mean(v)\n",
    "\n",
    "# Variance\n",
    "\n",
    "from numpy import var\n",
    "result = var(v, ddof=1)\n",
    "\n",
    "# Standard Deviation\n",
    "\n",
    "from numpy import std\n",
    "result = std(v, ddof=1)\n",
    "\n",
    "# Covariance Matrix\n",
    "\n",
    "from numpy import cov\n",
    "sigma = cov(v1, v2)\n",
    "\n",
    "\n",
    "# Linear Least Squares\n",
    "\n",
    "from numpy.linalg import lstsq\n",
    "b = lstsq(X, y)\n"
   ]
  },
  {
   "cell_type": "raw",
   "metadata": {},
   "source": []
  }
 ],
 "metadata": {
  "kernelspec": {
   "display_name": "Python 3",
   "language": "python",
   "name": "python3"
  },
  "language_info": {
   "codemirror_mode": {
    "name": "ipython",
    "version": 3
   },
   "file_extension": ".py",
   "mimetype": "text/x-python",
   "name": "python",
   "nbconvert_exporter": "python",
   "pygments_lexer": "ipython3",
   "version": "3.7.6"
  }
 },
 "nbformat": 4,
 "nbformat_minor": 4
}
